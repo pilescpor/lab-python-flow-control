{
 "cells": [
  {
   "cell_type": "markdown",
   "id": "d3bfc191-8885-42ee-b0a0-bbab867c6f9f",
   "metadata": {
    "tags": []
   },
   "source": [
    "# Lab | Flow Control"
   ]
  },
  {
   "cell_type": "markdown",
   "id": "3851fcd1-cf98-4653-9c89-e003b7ec9400",
   "metadata": {},
   "source": [
    "## Exercise: Managing Customer Orders Optimized\n",
    "\n",
    "In the last lab, you were starting an online store that sells various products. To ensure smooth operations, you developed a program that manages customer orders and inventory.\n",
    "\n",
    "You did so without using flow control. Let's go a step further and improve this code.\n",
    "\n",
    "Follow the steps below to complete the exercise:\n",
    "\n",
    "1. Look at your code from the lab data structures, and improve repeated code with loops.\n",
    "\n",
    "2. Instead of asking the user to input the name of three products that a customer wants to order, do the following:\n",
    "    \n",
    "    a. Prompt the user to enter the name of a product that a customer wants to order.\n",
    "    \n",
    "    b. Add the product name to the \"customer_orders\" set.\n",
    "    \n",
    "    c. Ask the user if they want to add another product (yes/no).\n",
    "    \n",
    "    d. Continue the loop until the user does not want to add another product.\n",
    "\n",
    "3. Instead of updating the inventory by subtracting 1 from the quantity of each product, only do it for  the products that were ordered (those in \"customer_orders\")."
   ]
  },
  {
   "cell_type": "markdown",
   "id": "38bedc1e",
   "metadata": {},
   "source": [
    "1. Look at your code from the lab data structures, and improve repeated code with loops."
   ]
  },
  {
   "cell_type": "code",
   "execution_count": 4,
   "id": "e019d16c",
   "metadata": {},
   "outputs": [],
   "source": [
    "products = [\"t-shirt\", \"mug\", \"hat\", \"book\", \"keychain\"]\n",
    "inventory ={}\n",
    "for product in products:\n",
    "    quantity = input(\"Which is the quantity of the product \" + product + \"?\")\n",
    "    inventory[product] = int(quantity)"
   ]
  },
  {
   "cell_type": "code",
   "execution_count": 12,
   "id": "8328a082",
   "metadata": {},
   "outputs": [],
   "source": [
    "customer_orders = set()"
   ]
  },
  {
   "cell_type": "code",
   "execution_count": 6,
   "id": "509ad24f",
   "metadata": {},
   "outputs": [
    {
     "name": "stdout",
     "output_type": "stream",
     "text": [
      "You need to order 3 products of the followig list: \n",
      "t-shirt\n",
      "mug\n",
      "hat\n",
      "book\n",
      "keychain\n",
      "bag is not a valid product\n"
     ]
    }
   ],
   "source": [
    "print(\"You need to order 3 products of the followig list: \")\n",
    "for product in products:\n",
    "    print(product)\n",
    "while len(customer_orders) < 3 :\n",
    "    product = input(\"What product do you want to order?\")\n",
    "    if product in products:\n",
    "        if product in customer_orders:\n",
    "            print(\"The product \" + product + \" is already ordered\")\n",
    "        else:\n",
    "            customer_orders.add(product)\n",
    "    else:\n",
    "        print(product + \" is not a valid product\") "
   ]
  },
  {
   "cell_type": "code",
   "execution_count": 16,
   "id": "db30e0bd",
   "metadata": {},
   "outputs": [],
   "source": [
    "#2. Instead of asking the user to input the name of three products that a customer wants to order, do the following:\n",
    "    \n",
    "  #  a. Prompt the user to enter the name of a product that a customer wants to order.\n",
    "    \n",
    "  #  b. Add the product name to the \"customer_orders\" set.\n",
    "    \n",
    "  #  c. Ask the user if they want to add another product (yes/no).\n",
    "    \n",
    "   # d. Continue the loop until the user does not want to add another product."
   ]
  },
  {
   "cell_type": "code",
   "execution_count": 22,
   "id": "c2679701",
   "metadata": {},
   "outputs": [
    {
     "name": "stdout",
     "output_type": "stream",
     "text": [
      "OK, thank you\n"
     ]
    }
   ],
   "source": [
    "customer_orders = set()\n",
    "while True:\n",
    "    ask_product = input(\"Do you want to add another product? yes/no\").lower()\n",
    "    if ask_product == \"yes\":\n",
    "        product = input(\"Which product do you want to add?\")\n",
    "        customer_orders.add(product)\n",
    "    else:\n",
    "        print(\"OK, thank you\")\n",
    "        break"
   ]
  },
  {
   "cell_type": "markdown",
   "id": "6fe197c9",
   "metadata": {},
   "source": [
    "3. Instead of updating the inventory by subtracting 1 from the quantity of each product, only do it for  the products that were ordered (those in \"customer_orders\")."
   ]
  },
  {
   "cell_type": "code",
   "execution_count": 23,
   "id": "18470d04",
   "metadata": {},
   "outputs": [],
   "source": [
    "for product in customer_orders:\n",
    "    if product in inventory:\n",
    "        inventory[product] = inventory[product]-1"
   ]
  },
  {
   "cell_type": "code",
   "execution_count": 24,
   "id": "50ab202e",
   "metadata": {},
   "outputs": [
    {
     "name": "stdout",
     "output_type": "stream",
     "text": [
      "The quantity of the product t-shirt is 4\n",
      "The quantity of the product mug is 2\n",
      "The quantity of the product hat is 5\n",
      "The quantity of the product book is 5\n",
      "The quantity of the product keychain is 4\n"
     ]
    }
   ],
   "source": [
    "for product, quantity in inventory.items():\n",
    "    print(\"The quantity of the product {} is {}\".format(product,quantity))"
   ]
  }
 ],
 "metadata": {
  "kernelspec": {
   "display_name": "Python 3 (ipykernel)",
   "language": "python",
   "name": "python3"
  },
  "language_info": {
   "codemirror_mode": {
    "name": "ipython",
    "version": 3
   },
   "file_extension": ".py",
   "mimetype": "text/x-python",
   "name": "python",
   "nbconvert_exporter": "python",
   "pygments_lexer": "ipython3",
   "version": "3.6.2"
  }
 },
 "nbformat": 4,
 "nbformat_minor": 5
}
